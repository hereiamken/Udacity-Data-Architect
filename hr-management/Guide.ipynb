{
 "cells": [
  {
   "cell_type": "markdown",
   "metadata": {
    "editable": true
   },
   "source": [
    "## Project workspace"
   ]
  },
  {
   "cell_type": "markdown",
   "metadata": {
    "editable": true,
    "ulab": {
     "buttons": {
      "ulab-button-40927051": {
       "bashCommand": "service postgresql start && su - postgres",
       "filesToOpen": [],
       "isPreviewButton": false,
       "runInBackground": false,
       "style": "primary",
       "text": "START POSTGRES",
       "toggleOffText": "HIDE SOLUTION",
       "toggleOnText": "SHOW SOLUTION"
      }
     }
    }
   },
   "source": [
    "Click the below button to make sure the postgres service is started.\n",
    "\n",
    "<button id=\"ulab-button-40927051\" class=\"ulab-btn--primary\"></button>"
   ]
  },
  {
   "cell_type": "markdown",
   "metadata": {
    "editable": true,
    "ulab": {
     "buttons": {
      "ulab-button-e5d9825f": {
       "bashCommand": "psql -f /home/workspace/StageTableLoad.sql",
       "filesToOpen": [],
       "isPreviewButton": false,
       "runInBackground": false,
       "style": "primary",
       "text": "INIT DATABASE",
       "toggleOffText": "HIDE SOLUTION",
       "toggleOnText": "SHOW SOLUTION"
      }
     }
    }
   },
   "source": [
    "### Instructions\n",
    "\n",
    "Use this workpace to complete the project. The instructor has created a SQL script (*StageTableLoad.sql*) that will create a \"proj_stg\" table with all the data from the excel workbook so you don't have to import the excel file into the workspace. From the \"proj_stg\" table, you will be responsible for creating an ETL SQL script.\n",
    "\n",
    "\n",
    "Now, click the below button to load the StageTableLoad.sql to the postgres database for the project.\n",
    "\n",
    "<button id=\"ulab-button-e5d9825f\" class=\"ulab-btn--primary\"></button>\n",
    "\n",
    "\n",
    "You can then use the `psql` command to enter the database.\n"
   ]
  },
  {
   "cell_type": "markdown",
   "metadata": {
    "editable": true
   },
   "source": [
    "*Remember, the data in postgres will be reset after 15 minutes of inactivity (including the workspace being closed). You may consider using the `scratchpad.sql` file on the tab at the top of the terminal to store your work long-term.*"
   ]
  }
 ],
 "metadata": {
  "kernelspec": {
   "display_name": "Python 3",
   "language": "python",
   "name": "python3"
  },
  "language_info": {
   "codemirror_mode": {
    "name": "ipython",
    "version": 3
   },
   "file_extension": ".py",
   "mimetype": "text/x-python",
   "name": "python",
   "nbconvert_exporter": "python",
   "pygments_lexer": "ipython3",
   "version": "3.6.3"
  },
  "ulab_nb_type": "guided"
 },
 "nbformat": 4,
 "nbformat_minor": 4
}
